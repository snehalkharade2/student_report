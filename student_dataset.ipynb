{
 "cells": [
  {
   "cell_type": "markdown",
   "id": "36258061",
   "metadata": {},
   "source": [
    "### Import Libraries"
   ]
  },
  {
   "cell_type": "code",
   "execution_count": 34,
   "id": "d6415d4f",
   "metadata": {},
   "outputs": [],
   "source": [
    "import numpy as np\n",
    "import pandas as pd\n",
    "\n",
    "from imblearn.over_sampling import SMOTE\n",
    "\n",
    "from sklearn.model_selection import train_test_split\n",
    "\n",
    "from sklearn.linear_model import LogisticRegression\n",
    "from sklearn.neighbors import KNeighborsClassifier\n",
    "\n",
    "from sklearn.metrics import ConfusionMatrixDisplay,accuracy_score,recall_score,precision_score,roc_curve,roc_auc_score,classification_report,confusion_matrix\n",
    "\n",
    "import pickle\n",
    "import json"
   ]
  },
  {
   "cell_type": "markdown",
   "id": "d6a372bf",
   "metadata": {},
   "source": [
    "### Problem Statement"
   ]
  },
  {
   "cell_type": "markdown",
   "id": "a57c9218",
   "metadata": {},
   "source": [
    "1. Marital status                         : The marital status of the student. (Categorical)\n",
    "2. Application mode                       : The method of application used by the student. (Categorical)\n",
    "3. Application order                      : The order in which the student applied. (Numerical)\n",
    "4. Course                                 : The course taken by the student. (Categorical)\n",
    "5. Daytime/evening attendance             : Whether the student attends classes during the day or in the evening. (Categorical)\n",
    "6. Previous qualification                 :The qualification obtained by the student before enrolling in higher education. (Categorical)\n",
    "7. Nacionality                            :The nationality of the student. (Categorical)\n",
    "8. Mother's qualification                 :The qualification of the student's mother. (Categorical)\n",
    "9. Father's qualification                 :The qualification of the student's father. (Categorical)\n",
    "10.Mother's occupation                    :The occupation of the student's mother. (Categorical)\n",
    "11.Father's occupation                    :The occupation of the student's father. (Categorical)\n",
    "12.Displaced                              :Whether the student is a displaced person. (Categorical)\n",
    "13.Educational special needs              :Whether the student has any special educational needs. (Categorical)\n",
    "14.Debtor                                 :Whether the student is a debtor. (Categorical)\n",
    "15.Tuition fees up to date                :Whether the student's tuition fees are up to date. (Categorical)\n",
    "16.Gender                                 :The gender of the student. (Categorical)\n",
    "17.Scholarship holder                     :Whether the student is a scholarship holder. (Categorical)\n",
    "18.Age at enrollment                      :The age of the student at the time of enrollment. (Numerical)\n",
    "19.International                          :Whether the student is an international student. (Categorical)\n",
    "20.Curricular units 1st sem (credited)    :The number of curricular units credited by the student in the first semester. (Numerical)\n",
    "21.Curricular units 1st sem (enrolled)    :The number of curricular units enrolled by the student in the first semester. (Numerical)\n",
    "22.Curricular units 1st sem (evaluations) :The number of curricular units evaluated by the student in the first semester. (Numerical)\n",
    "23.Curricular units 1st sem (approved)    :The number of curricular units approved by the student in the first semester. (Numerical)"
   ]
  },
  {
   "cell_type": "markdown",
   "id": "cbd2d670",
   "metadata": {},
   "source": [
    "### Data Gathering"
   ]
  },
  {
   "cell_type": "code",
   "execution_count": 35,
   "id": "7a1f8696",
   "metadata": {},
   "outputs": [
    {
     "data": {
      "text/html": [
       "<div>\n",
       "<style scoped>\n",
       "    .dataframe tbody tr th:only-of-type {\n",
       "        vertical-align: middle;\n",
       "    }\n",
       "\n",
       "    .dataframe tbody tr th {\n",
       "        vertical-align: top;\n",
       "    }\n",
       "\n",
       "    .dataframe thead th {\n",
       "        text-align: right;\n",
       "    }\n",
       "</style>\n",
       "<table border=\"1\" class=\"dataframe\">\n",
       "  <thead>\n",
       "    <tr style=\"text-align: right;\">\n",
       "      <th></th>\n",
       "      <th>Marital_status</th>\n",
       "      <th>Application_mode</th>\n",
       "      <th>Application_order</th>\n",
       "      <th>Course</th>\n",
       "      <th>Daytime_evening_attendance</th>\n",
       "      <th>Previous_qualification</th>\n",
       "      <th>Nacionality</th>\n",
       "      <th>Mothers_qualification</th>\n",
       "      <th>Fathers_qualification</th>\n",
       "      <th>Mother_occupation</th>\n",
       "      <th>...</th>\n",
       "      <th>Curricula_units_2nd_sem_credited</th>\n",
       "      <th>Curricular_units_2nd_sem_enrolled</th>\n",
       "      <th>Curricular_units_2nd_sem_evaluations</th>\n",
       "      <th>Curricular_units_2nd_sem_approved</th>\n",
       "      <th>Curricular_units_2nd_sem_grade</th>\n",
       "      <th>Curricular_units_2nd_sem_without_evaluations</th>\n",
       "      <th>Unemployment_rate</th>\n",
       "      <th>Inflation_rate</th>\n",
       "      <th>GDP</th>\n",
       "      <th>Target</th>\n",
       "    </tr>\n",
       "  </thead>\n",
       "  <tbody>\n",
       "    <tr>\n",
       "      <th>0</th>\n",
       "      <td>1</td>\n",
       "      <td>8</td>\n",
       "      <td>5</td>\n",
       "      <td>2</td>\n",
       "      <td>1</td>\n",
       "      <td>1</td>\n",
       "      <td>1</td>\n",
       "      <td>13</td>\n",
       "      <td>10</td>\n",
       "      <td>6</td>\n",
       "      <td>...</td>\n",
       "      <td>0</td>\n",
       "      <td>0</td>\n",
       "      <td>0</td>\n",
       "      <td>0</td>\n",
       "      <td>0.000000</td>\n",
       "      <td>0</td>\n",
       "      <td>10.8</td>\n",
       "      <td>1.4</td>\n",
       "      <td>1.74</td>\n",
       "      <td>Dropout</td>\n",
       "    </tr>\n",
       "    <tr>\n",
       "      <th>1</th>\n",
       "      <td>1</td>\n",
       "      <td>6</td>\n",
       "      <td>1</td>\n",
       "      <td>11</td>\n",
       "      <td>1</td>\n",
       "      <td>1</td>\n",
       "      <td>1</td>\n",
       "      <td>1</td>\n",
       "      <td>3</td>\n",
       "      <td>4</td>\n",
       "      <td>...</td>\n",
       "      <td>0</td>\n",
       "      <td>6</td>\n",
       "      <td>6</td>\n",
       "      <td>6</td>\n",
       "      <td>13.666667</td>\n",
       "      <td>0</td>\n",
       "      <td>13.9</td>\n",
       "      <td>-0.3</td>\n",
       "      <td>0.79</td>\n",
       "      <td>Graduate</td>\n",
       "    </tr>\n",
       "    <tr>\n",
       "      <th>2</th>\n",
       "      <td>1</td>\n",
       "      <td>1</td>\n",
       "      <td>5</td>\n",
       "      <td>5</td>\n",
       "      <td>1</td>\n",
       "      <td>1</td>\n",
       "      <td>1</td>\n",
       "      <td>22</td>\n",
       "      <td>27</td>\n",
       "      <td>10</td>\n",
       "      <td>...</td>\n",
       "      <td>0</td>\n",
       "      <td>6</td>\n",
       "      <td>0</td>\n",
       "      <td>0</td>\n",
       "      <td>0.000000</td>\n",
       "      <td>0</td>\n",
       "      <td>10.8</td>\n",
       "      <td>1.4</td>\n",
       "      <td>1.74</td>\n",
       "      <td>Dropout</td>\n",
       "    </tr>\n",
       "    <tr>\n",
       "      <th>3</th>\n",
       "      <td>1</td>\n",
       "      <td>8</td>\n",
       "      <td>2</td>\n",
       "      <td>15</td>\n",
       "      <td>1</td>\n",
       "      <td>1</td>\n",
       "      <td>1</td>\n",
       "      <td>23</td>\n",
       "      <td>27</td>\n",
       "      <td>6</td>\n",
       "      <td>...</td>\n",
       "      <td>0</td>\n",
       "      <td>6</td>\n",
       "      <td>10</td>\n",
       "      <td>5</td>\n",
       "      <td>12.400000</td>\n",
       "      <td>0</td>\n",
       "      <td>9.4</td>\n",
       "      <td>-0.8</td>\n",
       "      <td>-3.12</td>\n",
       "      <td>Graduate</td>\n",
       "    </tr>\n",
       "    <tr>\n",
       "      <th>4</th>\n",
       "      <td>2</td>\n",
       "      <td>12</td>\n",
       "      <td>1</td>\n",
       "      <td>3</td>\n",
       "      <td>0</td>\n",
       "      <td>1</td>\n",
       "      <td>1</td>\n",
       "      <td>22</td>\n",
       "      <td>28</td>\n",
       "      <td>10</td>\n",
       "      <td>...</td>\n",
       "      <td>0</td>\n",
       "      <td>6</td>\n",
       "      <td>6</td>\n",
       "      <td>6</td>\n",
       "      <td>13.000000</td>\n",
       "      <td>0</td>\n",
       "      <td>13.9</td>\n",
       "      <td>-0.3</td>\n",
       "      <td>0.79</td>\n",
       "      <td>Graduate</td>\n",
       "    </tr>\n",
       "    <tr>\n",
       "      <th>...</th>\n",
       "      <td>...</td>\n",
       "      <td>...</td>\n",
       "      <td>...</td>\n",
       "      <td>...</td>\n",
       "      <td>...</td>\n",
       "      <td>...</td>\n",
       "      <td>...</td>\n",
       "      <td>...</td>\n",
       "      <td>...</td>\n",
       "      <td>...</td>\n",
       "      <td>...</td>\n",
       "      <td>...</td>\n",
       "      <td>...</td>\n",
       "      <td>...</td>\n",
       "      <td>...</td>\n",
       "      <td>...</td>\n",
       "      <td>...</td>\n",
       "      <td>...</td>\n",
       "      <td>...</td>\n",
       "      <td>...</td>\n",
       "      <td>...</td>\n",
       "    </tr>\n",
       "    <tr>\n",
       "      <th>4419</th>\n",
       "      <td>1</td>\n",
       "      <td>1</td>\n",
       "      <td>6</td>\n",
       "      <td>15</td>\n",
       "      <td>1</td>\n",
       "      <td>1</td>\n",
       "      <td>1</td>\n",
       "      <td>1</td>\n",
       "      <td>1</td>\n",
       "      <td>6</td>\n",
       "      <td>...</td>\n",
       "      <td>0</td>\n",
       "      <td>6</td>\n",
       "      <td>8</td>\n",
       "      <td>5</td>\n",
       "      <td>12.666667</td>\n",
       "      <td>0</td>\n",
       "      <td>15.5</td>\n",
       "      <td>2.8</td>\n",
       "      <td>-4.06</td>\n",
       "      <td>Graduate</td>\n",
       "    </tr>\n",
       "    <tr>\n",
       "      <th>4420</th>\n",
       "      <td>1</td>\n",
       "      <td>1</td>\n",
       "      <td>2</td>\n",
       "      <td>15</td>\n",
       "      <td>1</td>\n",
       "      <td>1</td>\n",
       "      <td>19</td>\n",
       "      <td>1</td>\n",
       "      <td>1</td>\n",
       "      <td>10</td>\n",
       "      <td>...</td>\n",
       "      <td>0</td>\n",
       "      <td>6</td>\n",
       "      <td>6</td>\n",
       "      <td>2</td>\n",
       "      <td>11.000000</td>\n",
       "      <td>0</td>\n",
       "      <td>11.1</td>\n",
       "      <td>0.6</td>\n",
       "      <td>2.02</td>\n",
       "      <td>Dropout</td>\n",
       "    </tr>\n",
       "    <tr>\n",
       "      <th>4421</th>\n",
       "      <td>1</td>\n",
       "      <td>1</td>\n",
       "      <td>1</td>\n",
       "      <td>12</td>\n",
       "      <td>1</td>\n",
       "      <td>1</td>\n",
       "      <td>1</td>\n",
       "      <td>22</td>\n",
       "      <td>27</td>\n",
       "      <td>10</td>\n",
       "      <td>...</td>\n",
       "      <td>0</td>\n",
       "      <td>8</td>\n",
       "      <td>9</td>\n",
       "      <td>1</td>\n",
       "      <td>13.500000</td>\n",
       "      <td>0</td>\n",
       "      <td>13.9</td>\n",
       "      <td>-0.3</td>\n",
       "      <td>0.79</td>\n",
       "      <td>Dropout</td>\n",
       "    </tr>\n",
       "    <tr>\n",
       "      <th>4422</th>\n",
       "      <td>1</td>\n",
       "      <td>1</td>\n",
       "      <td>1</td>\n",
       "      <td>9</td>\n",
       "      <td>1</td>\n",
       "      <td>1</td>\n",
       "      <td>1</td>\n",
       "      <td>22</td>\n",
       "      <td>27</td>\n",
       "      <td>8</td>\n",
       "      <td>...</td>\n",
       "      <td>0</td>\n",
       "      <td>5</td>\n",
       "      <td>6</td>\n",
       "      <td>5</td>\n",
       "      <td>12.000000</td>\n",
       "      <td>0</td>\n",
       "      <td>9.4</td>\n",
       "      <td>-0.8</td>\n",
       "      <td>-3.12</td>\n",
       "      <td>Graduate</td>\n",
       "    </tr>\n",
       "    <tr>\n",
       "      <th>4423</th>\n",
       "      <td>1</td>\n",
       "      <td>5</td>\n",
       "      <td>1</td>\n",
       "      <td>15</td>\n",
       "      <td>1</td>\n",
       "      <td>1</td>\n",
       "      <td>9</td>\n",
       "      <td>23</td>\n",
       "      <td>27</td>\n",
       "      <td>6</td>\n",
       "      <td>...</td>\n",
       "      <td>0</td>\n",
       "      <td>6</td>\n",
       "      <td>6</td>\n",
       "      <td>6</td>\n",
       "      <td>13.000000</td>\n",
       "      <td>0</td>\n",
       "      <td>12.7</td>\n",
       "      <td>3.7</td>\n",
       "      <td>-1.70</td>\n",
       "      <td>Graduate</td>\n",
       "    </tr>\n",
       "  </tbody>\n",
       "</table>\n",
       "<p>4424 rows × 35 columns</p>\n",
       "</div>"
      ],
      "text/plain": [
       "      Marital_status  Application_mode  Application_order  Course  \\\n",
       "0                  1                 8                  5       2   \n",
       "1                  1                 6                  1      11   \n",
       "2                  1                 1                  5       5   \n",
       "3                  1                 8                  2      15   \n",
       "4                  2                12                  1       3   \n",
       "...              ...               ...                ...     ...   \n",
       "4419               1                 1                  6      15   \n",
       "4420               1                 1                  2      15   \n",
       "4421               1                 1                  1      12   \n",
       "4422               1                 1                  1       9   \n",
       "4423               1                 5                  1      15   \n",
       "\n",
       "      Daytime_evening_attendance  Previous_qualification  Nacionality  \\\n",
       "0                              1                       1            1   \n",
       "1                              1                       1            1   \n",
       "2                              1                       1            1   \n",
       "3                              1                       1            1   \n",
       "4                              0                       1            1   \n",
       "...                          ...                     ...          ...   \n",
       "4419                           1                       1            1   \n",
       "4420                           1                       1           19   \n",
       "4421                           1                       1            1   \n",
       "4422                           1                       1            1   \n",
       "4423                           1                       1            9   \n",
       "\n",
       "      Mothers_qualification  Fathers_qualification  Mother_occupation  ...  \\\n",
       "0                        13                     10                  6  ...   \n",
       "1                         1                      3                  4  ...   \n",
       "2                        22                     27                 10  ...   \n",
       "3                        23                     27                  6  ...   \n",
       "4                        22                     28                 10  ...   \n",
       "...                     ...                    ...                ...  ...   \n",
       "4419                      1                      1                  6  ...   \n",
       "4420                      1                      1                 10  ...   \n",
       "4421                     22                     27                 10  ...   \n",
       "4422                     22                     27                  8  ...   \n",
       "4423                     23                     27                  6  ...   \n",
       "\n",
       "      Curricula_units_2nd_sem_credited  Curricular_units_2nd_sem_enrolled  \\\n",
       "0                                    0                                  0   \n",
       "1                                    0                                  6   \n",
       "2                                    0                                  6   \n",
       "3                                    0                                  6   \n",
       "4                                    0                                  6   \n",
       "...                                ...                                ...   \n",
       "4419                                 0                                  6   \n",
       "4420                                 0                                  6   \n",
       "4421                                 0                                  8   \n",
       "4422                                 0                                  5   \n",
       "4423                                 0                                  6   \n",
       "\n",
       "      Curricular_units_2nd_sem_evaluations  Curricular_units_2nd_sem_approved  \\\n",
       "0                                        0                                  0   \n",
       "1                                        6                                  6   \n",
       "2                                        0                                  0   \n",
       "3                                       10                                  5   \n",
       "4                                        6                                  6   \n",
       "...                                    ...                                ...   \n",
       "4419                                     8                                  5   \n",
       "4420                                     6                                  2   \n",
       "4421                                     9                                  1   \n",
       "4422                                     6                                  5   \n",
       "4423                                     6                                  6   \n",
       "\n",
       "      Curricular_units_2nd_sem_grade  \\\n",
       "0                           0.000000   \n",
       "1                          13.666667   \n",
       "2                           0.000000   \n",
       "3                          12.400000   \n",
       "4                          13.000000   \n",
       "...                              ...   \n",
       "4419                       12.666667   \n",
       "4420                       11.000000   \n",
       "4421                       13.500000   \n",
       "4422                       12.000000   \n",
       "4423                       13.000000   \n",
       "\n",
       "      Curricular_units_2nd_sem_without_evaluations  Unemployment_rate  \\\n",
       "0                                                0               10.8   \n",
       "1                                                0               13.9   \n",
       "2                                                0               10.8   \n",
       "3                                                0                9.4   \n",
       "4                                                0               13.9   \n",
       "...                                            ...                ...   \n",
       "4419                                             0               15.5   \n",
       "4420                                             0               11.1   \n",
       "4421                                             0               13.9   \n",
       "4422                                             0                9.4   \n",
       "4423                                             0               12.7   \n",
       "\n",
       "      Inflation_rate   GDP    Target  \n",
       "0                1.4  1.74   Dropout  \n",
       "1               -0.3  0.79  Graduate  \n",
       "2                1.4  1.74   Dropout  \n",
       "3               -0.8 -3.12  Graduate  \n",
       "4               -0.3  0.79  Graduate  \n",
       "...              ...   ...       ...  \n",
       "4419             2.8 -4.06  Graduate  \n",
       "4420             0.6  2.02   Dropout  \n",
       "4421            -0.3  0.79   Dropout  \n",
       "4422            -0.8 -3.12  Graduate  \n",
       "4423             3.7 -1.70  Graduate  \n",
       "\n",
       "[4424 rows x 35 columns]"
      ]
     },
     "execution_count": 35,
     "metadata": {},
     "output_type": "execute_result"
    }
   ],
   "source": [
    "df = pd.read_csv(\"student_data.csv\")\n",
    "df"
   ]
  },
  {
   "cell_type": "markdown",
   "id": "4528089b",
   "metadata": {},
   "source": [
    "### EDA"
   ]
  },
  {
   "cell_type": "code",
   "execution_count": 36,
   "id": "498ab299",
   "metadata": {},
   "outputs": [
    {
     "name": "stdout",
     "output_type": "stream",
     "text": [
      "<class 'pandas.core.frame.DataFrame'>\n",
      "RangeIndex: 4424 entries, 0 to 4423\n",
      "Data columns (total 35 columns):\n",
      " #   Column                                        Non-Null Count  Dtype  \n",
      "---  ------                                        --------------  -----  \n",
      " 0   Marital_status                                4424 non-null   int64  \n",
      " 1   Application_mode                              4424 non-null   int64  \n",
      " 2   Application_order                             4424 non-null   int64  \n",
      " 3   Course                                        4424 non-null   int64  \n",
      " 4   Daytime_evening_attendance                    4424 non-null   int64  \n",
      " 5   Previous_qualification                        4424 non-null   int64  \n",
      " 6   Nacionality                                   4424 non-null   int64  \n",
      " 7   Mothers_qualification                         4424 non-null   int64  \n",
      " 8   Fathers_qualification                         4424 non-null   int64  \n",
      " 9   Mother_occupation                             4424 non-null   int64  \n",
      " 10  Father_occupation                             4424 non-null   int64  \n",
      " 11  Displaced                                     4424 non-null   int64  \n",
      " 12  Educational_special_needs                     4424 non-null   int64  \n",
      " 13  Debtor                                        4424 non-null   int64  \n",
      " 14  Tuition_fees                                  4424 non-null   int64  \n",
      " 15  Gender                                        4424 non-null   int64  \n",
      " 16  Scholarship_holder                            4424 non-null   int64  \n",
      " 17  Age_at_enrollment                             4424 non-null   int64  \n",
      " 18  International                                 4424 non-null   int64  \n",
      " 19  Curricular_units_1st_sem_credited             4424 non-null   int64  \n",
      " 20  Curricular_1st_sem_Enrolled                   4424 non-null   int64  \n",
      " 21  Curricular_units_1st_sem_evaluations          4424 non-null   int64  \n",
      " 22  Curricular_units_1st_sem_approved             4424 non-null   int64  \n",
      " 23  Curricular_unit_1st_sem_grade                 4424 non-null   float64\n",
      " 24  Curricular_units_1st_sem_without_evaluations  4424 non-null   int64  \n",
      " 25  Curricula_units_2nd_sem_credited              4424 non-null   int64  \n",
      " 26  Curricular_units_2nd_sem_enrolled             4424 non-null   int64  \n",
      " 27  Curricular_units_2nd_sem_evaluations          4424 non-null   int64  \n",
      " 28  Curricular_units_2nd_sem_approved             4424 non-null   int64  \n",
      " 29  Curricular_units_2nd_sem_grade                4424 non-null   float64\n",
      " 30  Curricular_units_2nd_sem_without_evaluations  4424 non-null   int64  \n",
      " 31  Unemployment_rate                             4424 non-null   float64\n",
      " 32  Inflation_rate                                4424 non-null   float64\n",
      " 33  GDP                                           4424 non-null   float64\n",
      " 34  Target                                        4424 non-null   object \n",
      "dtypes: float64(5), int64(29), object(1)\n",
      "memory usage: 1.2+ MB\n"
     ]
    }
   ],
   "source": [
    "df.info()"
   ]
  },
  {
   "cell_type": "code",
   "execution_count": 37,
   "id": "02210a01",
   "metadata": {},
   "outputs": [
    {
     "data": {
      "text/plain": [
       "Marital_status                                  0\n",
       "Application_mode                                0\n",
       "Application_order                               0\n",
       "Course                                          0\n",
       "Daytime_evening_attendance                      0\n",
       "Previous_qualification                          0\n",
       "Nacionality                                     0\n",
       "Mothers_qualification                           0\n",
       "Fathers_qualification                           0\n",
       "Mother_occupation                               0\n",
       "Father_occupation                               0\n",
       "Displaced                                       0\n",
       "Educational_special_needs                       0\n",
       "Debtor                                          0\n",
       "Tuition_fees                                    0\n",
       "Gender                                          0\n",
       "Scholarship_holder                              0\n",
       "Age_at_enrollment                               0\n",
       "International                                   0\n",
       "Curricular_units_1st_sem_credited               0\n",
       "Curricular_1st_sem_Enrolled                     0\n",
       "Curricular_units_1st_sem_evaluations            0\n",
       "Curricular_units_1st_sem_approved               0\n",
       "Curricular_unit_1st_sem_grade                   0\n",
       "Curricular_units_1st_sem_without_evaluations    0\n",
       "Curricula_units_2nd_sem_credited                0\n",
       "Curricular_units_2nd_sem_enrolled               0\n",
       "Curricular_units_2nd_sem_evaluations            0\n",
       "Curricular_units_2nd_sem_approved               0\n",
       "Curricular_units_2nd_sem_grade                  0\n",
       "Curricular_units_2nd_sem_without_evaluations    0\n",
       "Unemployment_rate                               0\n",
       "Inflation_rate                                  0\n",
       "GDP                                             0\n",
       "Target                                          0\n",
       "dtype: int64"
      ]
     },
     "execution_count": 37,
     "metadata": {},
     "output_type": "execute_result"
    }
   ],
   "source": [
    "df.isna().sum()"
   ]
  },
  {
   "cell_type": "code",
   "execution_count": 38,
   "id": "e8817038",
   "metadata": {},
   "outputs": [],
   "source": [
    "df = df[df.Target != \"Enrolled\"]"
   ]
  },
  {
   "cell_type": "code",
   "execution_count": 39,
   "id": "bec53c44",
   "metadata": {},
   "outputs": [
    {
     "data": {
      "text/plain": [
       "{'Graduate': 2209, 'Dropout': 1421}"
      ]
     },
     "execution_count": 39,
     "metadata": {},
     "output_type": "execute_result"
    }
   ],
   "source": [
    "df.Target.value_counts().to_dict()"
   ]
  },
  {
   "cell_type": "code",
   "execution_count": 40,
   "id": "63b8fdaf",
   "metadata": {},
   "outputs": [
    {
     "data": {
      "text/plain": [
       "0.6085399449035813"
      ]
     },
     "execution_count": 40,
     "metadata": {},
     "output_type": "execute_result"
    }
   ],
   "source": [
    "2209 /(2209+1421)"
   ]
  },
  {
   "cell_type": "code",
   "execution_count": 41,
   "id": "51383171",
   "metadata": {},
   "outputs": [
    {
     "name": "stderr",
     "output_type": "stream",
     "text": [
      "C:\\Users\\91880\\AppData\\Local\\Temp\\ipykernel_28420\\959254670.py:1: SettingWithCopyWarning: \n",
      "A value is trying to be set on a copy of a slice from a DataFrame\n",
      "\n",
      "See the caveats in the documentation: https://pandas.pydata.org/pandas-docs/stable/user_guide/indexing.html#returning-a-view-versus-a-copy\n",
      "  df[\"Target\"].replace({'Graduate': 1, 'Dropout': 0},inplace = True)\n"
     ]
    },
    {
     "data": {
      "text/plain": [
       "0       0\n",
       "1       1\n",
       "2       0\n",
       "3       1\n",
       "4       1\n",
       "       ..\n",
       "4419    1\n",
       "4420    0\n",
       "4421    0\n",
       "4422    1\n",
       "4423    1\n",
       "Name: Target, Length: 3630, dtype: int64"
      ]
     },
     "execution_count": 41,
     "metadata": {},
     "output_type": "execute_result"
    }
   ],
   "source": [
    "df[\"Target\"].replace({'Graduate': 1, 'Dropout': 0},inplace = True)\n",
    "df[\"Target\"]"
   ]
  },
  {
   "cell_type": "code",
   "execution_count": 60,
   "id": "58ef9039",
   "metadata": {},
   "outputs": [
    {
     "data": {
      "text/plain": [
       "1    3199\n",
       "2     327\n",
       "4      75\n",
       "5      22\n",
       "6       5\n",
       "3       2\n",
       "Name: Marital_status, dtype: int64"
      ]
     },
     "execution_count": 60,
     "metadata": {},
     "output_type": "execute_result"
    }
   ],
   "source": [
    "df.Marital_status.value_counts()"
   ]
  },
  {
   "cell_type": "code",
   "execution_count": 61,
   "id": "08142584",
   "metadata": {},
   "outputs": [
    {
     "data": {
      "text/plain": [
       "1     1408\n",
       "8      713\n",
       "12     664\n",
       "14     237\n",
       "15     157\n",
       "4      132\n",
       "9      108\n",
       "13      66\n",
       "16      46\n",
       "7       30\n",
       "17      25\n",
       "6       20\n",
       "5       10\n",
       "3        8\n",
       "2        3\n",
       "18       1\n",
       "10       1\n",
       "11       1\n",
       "Name: Application_mode, dtype: int64"
      ]
     },
     "execution_count": 61,
     "metadata": {},
     "output_type": "execute_result"
    }
   ],
   "source": [
    "df[\"Application_mode\"].value_counts()"
   ]
  },
  {
   "cell_type": "code",
   "execution_count": 62,
   "id": "88520c1e",
   "metadata": {},
   "outputs": [
    {
     "data": {
      "text/plain": [
       "1    2461\n",
       "2     451\n",
       "3     249\n",
       "4     218\n",
       "5     129\n",
       "6     121\n",
       "0       1\n",
       "Name: Application_order, dtype: int64"
      ]
     },
     "execution_count": 62,
     "metadata": {},
     "output_type": "execute_result"
    }
   ],
   "source": [
    "df[\"Application_order\"].value_counts()"
   ]
  },
  {
   "cell_type": "code",
   "execution_count": 63,
   "id": "4cfc16c2",
   "metadata": {},
   "outputs": [
    {
     "data": {
      "text/plain": [
       "0    2381\n",
       "1    1249\n",
       "Name: Gender, dtype: int64"
      ]
     },
     "execution_count": 63,
     "metadata": {},
     "output_type": "execute_result"
    }
   ],
   "source": [
    "df[\"Gender\"].value_counts()"
   ]
  },
  {
   "cell_type": "code",
   "execution_count": 65,
   "id": "df1daea9",
   "metadata": {},
   "outputs": [
    {
     "data": {
      "text/plain": [
       "1     3544\n",
       "14      32\n",
       "9       12\n",
       "12       9\n",
       "3        8\n",
       "10       5\n",
       "4        3\n",
       "18       3\n",
       "17       2\n",
       "16       2\n",
       "2        2\n",
       "11       1\n",
       "15       1\n",
       "5        1\n",
       "21       1\n",
       "8        1\n",
       "6        1\n",
       "7        1\n",
       "19       1\n",
       "Name: Nacionality, dtype: int64"
      ]
     },
     "execution_count": 65,
     "metadata": {},
     "output_type": "execute_result"
    }
   ],
   "source": [
    "df[\"Nacionality\"].value_counts()"
   ]
  },
  {
   "cell_type": "code",
   "execution_count": 42,
   "id": "b181b8a9",
   "metadata": {},
   "outputs": [
    {
     "data": {
      "text/html": [
       "<div>\n",
       "<style scoped>\n",
       "    .dataframe tbody tr th:only-of-type {\n",
       "        vertical-align: middle;\n",
       "    }\n",
       "\n",
       "    .dataframe tbody tr th {\n",
       "        vertical-align: top;\n",
       "    }\n",
       "\n",
       "    .dataframe thead th {\n",
       "        text-align: right;\n",
       "    }\n",
       "</style>\n",
       "<table border=\"1\" class=\"dataframe\">\n",
       "  <thead>\n",
       "    <tr style=\"text-align: right;\">\n",
       "      <th></th>\n",
       "      <th>Marital_status</th>\n",
       "      <th>Application_mode</th>\n",
       "      <th>Application_order</th>\n",
       "      <th>Course</th>\n",
       "      <th>Daytime_evening_attendance</th>\n",
       "      <th>Previous_qualification</th>\n",
       "      <th>Nacionality</th>\n",
       "      <th>Mothers_qualification</th>\n",
       "      <th>Fathers_qualification</th>\n",
       "      <th>Mother_occupation</th>\n",
       "      <th>...</th>\n",
       "      <th>Curricula_units_2nd_sem_credited</th>\n",
       "      <th>Curricular_units_2nd_sem_enrolled</th>\n",
       "      <th>Curricular_units_2nd_sem_evaluations</th>\n",
       "      <th>Curricular_units_2nd_sem_approved</th>\n",
       "      <th>Curricular_units_2nd_sem_grade</th>\n",
       "      <th>Curricular_units_2nd_sem_without_evaluations</th>\n",
       "      <th>Unemployment_rate</th>\n",
       "      <th>Inflation_rate</th>\n",
       "      <th>GDP</th>\n",
       "      <th>Target</th>\n",
       "    </tr>\n",
       "  </thead>\n",
       "  <tbody>\n",
       "    <tr>\n",
       "      <th>count</th>\n",
       "      <td>3630.000000</td>\n",
       "      <td>3630.000000</td>\n",
       "      <td>3630.000000</td>\n",
       "      <td>3630.000000</td>\n",
       "      <td>3630.000000</td>\n",
       "      <td>3630.000000</td>\n",
       "      <td>3630.000000</td>\n",
       "      <td>3630.000000</td>\n",
       "      <td>3630.000000</td>\n",
       "      <td>3630.000000</td>\n",
       "      <td>...</td>\n",
       "      <td>3630.000000</td>\n",
       "      <td>3630.000000</td>\n",
       "      <td>3630.000000</td>\n",
       "      <td>3630.000000</td>\n",
       "      <td>3630.000000</td>\n",
       "      <td>3630.000000</td>\n",
       "      <td>3630.000000</td>\n",
       "      <td>3630.000000</td>\n",
       "      <td>3630.000000</td>\n",
       "      <td>3630.000000</td>\n",
       "    </tr>\n",
       "    <tr>\n",
       "      <th>mean</th>\n",
       "      <td>1.184298</td>\n",
       "      <td>6.810193</td>\n",
       "      <td>1.750138</td>\n",
       "      <td>9.935537</td>\n",
       "      <td>0.887603</td>\n",
       "      <td>2.552617</td>\n",
       "      <td>1.242424</td>\n",
       "      <td>12.558678</td>\n",
       "      <td>16.663636</td>\n",
       "      <td>7.212948</td>\n",
       "      <td>...</td>\n",
       "      <td>0.581818</td>\n",
       "      <td>6.296419</td>\n",
       "      <td>7.763085</td>\n",
       "      <td>4.518457</td>\n",
       "      <td>10.036155</td>\n",
       "      <td>0.142149</td>\n",
       "      <td>11.630358</td>\n",
       "      <td>1.231598</td>\n",
       "      <td>-0.009256</td>\n",
       "      <td>0.608540</td>\n",
       "    </tr>\n",
       "    <tr>\n",
       "      <th>std</th>\n",
       "      <td>0.613009</td>\n",
       "      <td>5.253618</td>\n",
       "      <td>1.333831</td>\n",
       "      <td>4.340715</td>\n",
       "      <td>0.315897</td>\n",
       "      <td>3.952440</td>\n",
       "      <td>1.700394</td>\n",
       "      <td>9.006183</td>\n",
       "      <td>10.993025</td>\n",
       "      <td>3.707343</td>\n",
       "      <td>...</td>\n",
       "      <td>2.022688</td>\n",
       "      <td>2.263020</td>\n",
       "      <td>3.964163</td>\n",
       "      <td>3.162376</td>\n",
       "      <td>5.481742</td>\n",
       "      <td>0.747670</td>\n",
       "      <td>2.667652</td>\n",
       "      <td>1.384911</td>\n",
       "      <td>2.259986</td>\n",
       "      <td>0.488144</td>\n",
       "    </tr>\n",
       "    <tr>\n",
       "      <th>min</th>\n",
       "      <td>1.000000</td>\n",
       "      <td>1.000000</td>\n",
       "      <td>0.000000</td>\n",
       "      <td>1.000000</td>\n",
       "      <td>0.000000</td>\n",
       "      <td>1.000000</td>\n",
       "      <td>1.000000</td>\n",
       "      <td>1.000000</td>\n",
       "      <td>1.000000</td>\n",
       "      <td>1.000000</td>\n",
       "      <td>...</td>\n",
       "      <td>0.000000</td>\n",
       "      <td>0.000000</td>\n",
       "      <td>0.000000</td>\n",
       "      <td>0.000000</td>\n",
       "      <td>0.000000</td>\n",
       "      <td>0.000000</td>\n",
       "      <td>7.600000</td>\n",
       "      <td>-0.800000</td>\n",
       "      <td>-4.060000</td>\n",
       "      <td>0.000000</td>\n",
       "    </tr>\n",
       "    <tr>\n",
       "      <th>25%</th>\n",
       "      <td>1.000000</td>\n",
       "      <td>1.000000</td>\n",
       "      <td>1.000000</td>\n",
       "      <td>6.000000</td>\n",
       "      <td>1.000000</td>\n",
       "      <td>1.000000</td>\n",
       "      <td>1.000000</td>\n",
       "      <td>2.000000</td>\n",
       "      <td>3.000000</td>\n",
       "      <td>5.000000</td>\n",
       "      <td>...</td>\n",
       "      <td>0.000000</td>\n",
       "      <td>5.000000</td>\n",
       "      <td>6.000000</td>\n",
       "      <td>2.000000</td>\n",
       "      <td>10.517857</td>\n",
       "      <td>0.000000</td>\n",
       "      <td>9.400000</td>\n",
       "      <td>0.300000</td>\n",
       "      <td>-1.700000</td>\n",
       "      <td>0.000000</td>\n",
       "    </tr>\n",
       "    <tr>\n",
       "      <th>50%</th>\n",
       "      <td>1.000000</td>\n",
       "      <td>8.000000</td>\n",
       "      <td>1.000000</td>\n",
       "      <td>11.000000</td>\n",
       "      <td>1.000000</td>\n",
       "      <td>1.000000</td>\n",
       "      <td>1.000000</td>\n",
       "      <td>13.000000</td>\n",
       "      <td>14.000000</td>\n",
       "      <td>6.000000</td>\n",
       "      <td>...</td>\n",
       "      <td>0.000000</td>\n",
       "      <td>6.000000</td>\n",
       "      <td>8.000000</td>\n",
       "      <td>5.000000</td>\n",
       "      <td>12.333333</td>\n",
       "      <td>0.000000</td>\n",
       "      <td>11.100000</td>\n",
       "      <td>1.400000</td>\n",
       "      <td>0.320000</td>\n",
       "      <td>1.000000</td>\n",
       "    </tr>\n",
       "    <tr>\n",
       "      <th>75%</th>\n",
       "      <td>1.000000</td>\n",
       "      <td>12.000000</td>\n",
       "      <td>2.000000</td>\n",
       "      <td>13.000000</td>\n",
       "      <td>1.000000</td>\n",
       "      <td>1.000000</td>\n",
       "      <td>1.000000</td>\n",
       "      <td>22.000000</td>\n",
       "      <td>27.000000</td>\n",
       "      <td>10.000000</td>\n",
       "      <td>...</td>\n",
       "      <td>0.000000</td>\n",
       "      <td>7.000000</td>\n",
       "      <td>10.000000</td>\n",
       "      <td>6.000000</td>\n",
       "      <td>13.500000</td>\n",
       "      <td>0.000000</td>\n",
       "      <td>13.900000</td>\n",
       "      <td>2.600000</td>\n",
       "      <td>1.790000</td>\n",
       "      <td>1.000000</td>\n",
       "    </tr>\n",
       "    <tr>\n",
       "      <th>max</th>\n",
       "      <td>6.000000</td>\n",
       "      <td>18.000000</td>\n",
       "      <td>6.000000</td>\n",
       "      <td>17.000000</td>\n",
       "      <td>1.000000</td>\n",
       "      <td>17.000000</td>\n",
       "      <td>21.000000</td>\n",
       "      <td>29.000000</td>\n",
       "      <td>34.000000</td>\n",
       "      <td>32.000000</td>\n",
       "      <td>...</td>\n",
       "      <td>19.000000</td>\n",
       "      <td>23.000000</td>\n",
       "      <td>33.000000</td>\n",
       "      <td>20.000000</td>\n",
       "      <td>18.571429</td>\n",
       "      <td>12.000000</td>\n",
       "      <td>16.200000</td>\n",
       "      <td>3.700000</td>\n",
       "      <td>3.510000</td>\n",
       "      <td>1.000000</td>\n",
       "    </tr>\n",
       "  </tbody>\n",
       "</table>\n",
       "<p>8 rows × 35 columns</p>\n",
       "</div>"
      ],
      "text/plain": [
       "       Marital_status  Application_mode  Application_order       Course  \\\n",
       "count     3630.000000       3630.000000        3630.000000  3630.000000   \n",
       "mean         1.184298          6.810193           1.750138     9.935537   \n",
       "std          0.613009          5.253618           1.333831     4.340715   \n",
       "min          1.000000          1.000000           0.000000     1.000000   \n",
       "25%          1.000000          1.000000           1.000000     6.000000   \n",
       "50%          1.000000          8.000000           1.000000    11.000000   \n",
       "75%          1.000000         12.000000           2.000000    13.000000   \n",
       "max          6.000000         18.000000           6.000000    17.000000   \n",
       "\n",
       "       Daytime_evening_attendance  Previous_qualification  Nacionality  \\\n",
       "count                 3630.000000             3630.000000  3630.000000   \n",
       "mean                     0.887603                2.552617     1.242424   \n",
       "std                      0.315897                3.952440     1.700394   \n",
       "min                      0.000000                1.000000     1.000000   \n",
       "25%                      1.000000                1.000000     1.000000   \n",
       "50%                      1.000000                1.000000     1.000000   \n",
       "75%                      1.000000                1.000000     1.000000   \n",
       "max                      1.000000               17.000000    21.000000   \n",
       "\n",
       "       Mothers_qualification  Fathers_qualification  Mother_occupation  ...  \\\n",
       "count            3630.000000            3630.000000        3630.000000  ...   \n",
       "mean               12.558678              16.663636           7.212948  ...   \n",
       "std                 9.006183              10.993025           3.707343  ...   \n",
       "min                 1.000000               1.000000           1.000000  ...   \n",
       "25%                 2.000000               3.000000           5.000000  ...   \n",
       "50%                13.000000              14.000000           6.000000  ...   \n",
       "75%                22.000000              27.000000          10.000000  ...   \n",
       "max                29.000000              34.000000          32.000000  ...   \n",
       "\n",
       "       Curricula_units_2nd_sem_credited  Curricular_units_2nd_sem_enrolled  \\\n",
       "count                       3630.000000                        3630.000000   \n",
       "mean                           0.581818                           6.296419   \n",
       "std                            2.022688                           2.263020   \n",
       "min                            0.000000                           0.000000   \n",
       "25%                            0.000000                           5.000000   \n",
       "50%                            0.000000                           6.000000   \n",
       "75%                            0.000000                           7.000000   \n",
       "max                           19.000000                          23.000000   \n",
       "\n",
       "       Curricular_units_2nd_sem_evaluations  \\\n",
       "count                           3630.000000   \n",
       "mean                               7.763085   \n",
       "std                                3.964163   \n",
       "min                                0.000000   \n",
       "25%                                6.000000   \n",
       "50%                                8.000000   \n",
       "75%                               10.000000   \n",
       "max                               33.000000   \n",
       "\n",
       "       Curricular_units_2nd_sem_approved  Curricular_units_2nd_sem_grade  \\\n",
       "count                        3630.000000                     3630.000000   \n",
       "mean                            4.518457                       10.036155   \n",
       "std                             3.162376                        5.481742   \n",
       "min                             0.000000                        0.000000   \n",
       "25%                             2.000000                       10.517857   \n",
       "50%                             5.000000                       12.333333   \n",
       "75%                             6.000000                       13.500000   \n",
       "max                            20.000000                       18.571429   \n",
       "\n",
       "       Curricular_units_2nd_sem_without_evaluations  Unemployment_rate  \\\n",
       "count                                   3630.000000        3630.000000   \n",
       "mean                                       0.142149          11.630358   \n",
       "std                                        0.747670           2.667652   \n",
       "min                                        0.000000           7.600000   \n",
       "25%                                        0.000000           9.400000   \n",
       "50%                                        0.000000          11.100000   \n",
       "75%                                        0.000000          13.900000   \n",
       "max                                       12.000000          16.200000   \n",
       "\n",
       "       Inflation_rate          GDP       Target  \n",
       "count     3630.000000  3630.000000  3630.000000  \n",
       "mean         1.231598    -0.009256     0.608540  \n",
       "std          1.384911     2.259986     0.488144  \n",
       "min         -0.800000    -4.060000     0.000000  \n",
       "25%          0.300000    -1.700000     0.000000  \n",
       "50%          1.400000     0.320000     1.000000  \n",
       "75%          2.600000     1.790000     1.000000  \n",
       "max          3.700000     3.510000     1.000000  \n",
       "\n",
       "[8 rows x 35 columns]"
      ]
     },
     "execution_count": 42,
     "metadata": {},
     "output_type": "execute_result"
    }
   ],
   "source": [
    "df.describe()"
   ]
  },
  {
   "cell_type": "code",
   "execution_count": 43,
   "id": "47874b67",
   "metadata": {},
   "outputs": [
    {
     "data": {
      "text/plain": [
       "Index(['Marital_status', 'Application_mode', 'Application_order', 'Course',\n",
       "       'Daytime_evening_attendance', 'Previous_qualification', 'Nacionality',\n",
       "       'Mothers_qualification', 'Fathers_qualification', 'Mother_occupation',\n",
       "       'Father_occupation', 'Displaced', 'Educational_special_needs', 'Debtor',\n",
       "       'Tuition_fees ', 'Gender', 'Scholarship_holder', 'Age_at_enrollment',\n",
       "       'International', 'Curricular_units_1st_sem_credited',\n",
       "       'Curricular_1st_sem_Enrolled ', 'Curricular_units_1st_sem_evaluations',\n",
       "       'Curricular_units_1st_sem_approved', 'Curricular_unit_1st_sem_grade',\n",
       "       'Curricular_units_1st_sem_without_evaluations',\n",
       "       'Curricula_units_2nd_sem_credited', 'Curricular_units_2nd_sem_enrolled',\n",
       "       'Curricular_units_2nd_sem_evaluations',\n",
       "       'Curricular_units_2nd_sem_approved', 'Curricular_units_2nd_sem_grade',\n",
       "       'Curricular_units_2nd_sem_without_evaluations', 'Unemployment_rate',\n",
       "       'Inflation_rate', 'GDP', 'Target'],\n",
       "      dtype='object')"
      ]
     },
     "execution_count": 43,
     "metadata": {},
     "output_type": "execute_result"
    }
   ],
   "source": [
    "df.columns\n"
   ]
  },
  {
   "cell_type": "code",
   "execution_count": 44,
   "id": "2e3598a5",
   "metadata": {},
   "outputs": [],
   "source": [
    "x = df.drop(\"Target\", axis = 1)\n",
    "y = df[\"Target\"]"
   ]
  },
  {
   "cell_type": "code",
   "execution_count": 45,
   "id": "612bc6e2",
   "metadata": {},
   "outputs": [
    {
     "data": {
      "text/plain": [
       "1    2209\n",
       "0    1767\n",
       "Name: Target, dtype: int64"
      ]
     },
     "execution_count": 45,
     "metadata": {},
     "output_type": "execute_result"
    }
   ],
   "source": [
    "#smote \n",
    "\n",
    "smote = SMOTE(k_neighbors=5,sampling_strategy=0.8,random_state=5)\n",
    "x_sampled, y_sampled = smote.fit_resample(x,y)\n",
    "y_sampled.value_counts()"
   ]
  },
  {
   "cell_type": "code",
   "execution_count": 46,
   "id": "12bec131",
   "metadata": {},
   "outputs": [],
   "source": [
    "x_train,x_test,y_train,y_test = train_test_split(x_sampled,y_sampled,random_state= 11,test_size=0.3,stratify= y_sampled)"
   ]
  },
  {
   "cell_type": "code",
   "execution_count": 47,
   "id": "a849ae9a",
   "metadata": {},
   "outputs": [
    {
     "name": "stderr",
     "output_type": "stream",
     "text": [
      "D:\\Program Installation\\lib\\site-packages\\sklearn\\linear_model\\_logistic.py:458: ConvergenceWarning: lbfgs failed to converge (status=1):\n",
      "STOP: TOTAL NO. of ITERATIONS REACHED LIMIT.\n",
      "\n",
      "Increase the number of iterations (max_iter) or scale the data as shown in:\n",
      "    https://scikit-learn.org/stable/modules/preprocessing.html\n",
      "Please also refer to the documentation for alternative solver options:\n",
      "    https://scikit-learn.org/stable/modules/linear_model.html#logistic-regression\n",
      "  n_iter_i = _check_optimize_result(\n"
     ]
    },
    {
     "data": {
      "text/html": [
       "<style>#sk-container-id-3 {color: black;background-color: white;}#sk-container-id-3 pre{padding: 0;}#sk-container-id-3 div.sk-toggleable {background-color: white;}#sk-container-id-3 label.sk-toggleable__label {cursor: pointer;display: block;width: 100%;margin-bottom: 0;padding: 0.3em;box-sizing: border-box;text-align: center;}#sk-container-id-3 label.sk-toggleable__label-arrow:before {content: \"▸\";float: left;margin-right: 0.25em;color: #696969;}#sk-container-id-3 label.sk-toggleable__label-arrow:hover:before {color: black;}#sk-container-id-3 div.sk-estimator:hover label.sk-toggleable__label-arrow:before {color: black;}#sk-container-id-3 div.sk-toggleable__content {max-height: 0;max-width: 0;overflow: hidden;text-align: left;background-color: #f0f8ff;}#sk-container-id-3 div.sk-toggleable__content pre {margin: 0.2em;color: black;border-radius: 0.25em;background-color: #f0f8ff;}#sk-container-id-3 input.sk-toggleable__control:checked~div.sk-toggleable__content {max-height: 200px;max-width: 100%;overflow: auto;}#sk-container-id-3 input.sk-toggleable__control:checked~label.sk-toggleable__label-arrow:before {content: \"▾\";}#sk-container-id-3 div.sk-estimator input.sk-toggleable__control:checked~label.sk-toggleable__label {background-color: #d4ebff;}#sk-container-id-3 div.sk-label input.sk-toggleable__control:checked~label.sk-toggleable__label {background-color: #d4ebff;}#sk-container-id-3 input.sk-hidden--visually {border: 0;clip: rect(1px 1px 1px 1px);clip: rect(1px, 1px, 1px, 1px);height: 1px;margin: -1px;overflow: hidden;padding: 0;position: absolute;width: 1px;}#sk-container-id-3 div.sk-estimator {font-family: monospace;background-color: #f0f8ff;border: 1px dotted black;border-radius: 0.25em;box-sizing: border-box;margin-bottom: 0.5em;}#sk-container-id-3 div.sk-estimator:hover {background-color: #d4ebff;}#sk-container-id-3 div.sk-parallel-item::after {content: \"\";width: 100%;border-bottom: 1px solid gray;flex-grow: 1;}#sk-container-id-3 div.sk-label:hover label.sk-toggleable__label {background-color: #d4ebff;}#sk-container-id-3 div.sk-serial::before {content: \"\";position: absolute;border-left: 1px solid gray;box-sizing: border-box;top: 0;bottom: 0;left: 50%;z-index: 0;}#sk-container-id-3 div.sk-serial {display: flex;flex-direction: column;align-items: center;background-color: white;padding-right: 0.2em;padding-left: 0.2em;position: relative;}#sk-container-id-3 div.sk-item {position: relative;z-index: 1;}#sk-container-id-3 div.sk-parallel {display: flex;align-items: stretch;justify-content: center;background-color: white;position: relative;}#sk-container-id-3 div.sk-item::before, #sk-container-id-3 div.sk-parallel-item::before {content: \"\";position: absolute;border-left: 1px solid gray;box-sizing: border-box;top: 0;bottom: 0;left: 50%;z-index: -1;}#sk-container-id-3 div.sk-parallel-item {display: flex;flex-direction: column;z-index: 1;position: relative;background-color: white;}#sk-container-id-3 div.sk-parallel-item:first-child::after {align-self: flex-end;width: 50%;}#sk-container-id-3 div.sk-parallel-item:last-child::after {align-self: flex-start;width: 50%;}#sk-container-id-3 div.sk-parallel-item:only-child::after {width: 0;}#sk-container-id-3 div.sk-dashed-wrapped {border: 1px dashed gray;margin: 0 0.4em 0.5em 0.4em;box-sizing: border-box;padding-bottom: 0.4em;background-color: white;}#sk-container-id-3 div.sk-label label {font-family: monospace;font-weight: bold;display: inline-block;line-height: 1.2em;}#sk-container-id-3 div.sk-label-container {text-align: center;}#sk-container-id-3 div.sk-container {/* jupyter's `normalize.less` sets `[hidden] { display: none; }` but bootstrap.min.css set `[hidden] { display: none !important; }` so we also need the `!important` here to be able to override the default hidden behavior on the sphinx rendered scikit-learn.org. See: https://github.com/scikit-learn/scikit-learn/issues/21755 */display: inline-block !important;position: relative;}#sk-container-id-3 div.sk-text-repr-fallback {display: none;}</style><div id=\"sk-container-id-3\" class=\"sk-top-container\"><div class=\"sk-text-repr-fallback\"><pre>LogisticRegression()</pre><b>In a Jupyter environment, please rerun this cell to show the HTML representation or trust the notebook. <br />On GitHub, the HTML representation is unable to render, please try loading this page with nbviewer.org.</b></div><div class=\"sk-container\" hidden><div class=\"sk-item\"><div class=\"sk-estimator sk-toggleable\"><input class=\"sk-toggleable__control sk-hidden--visually\" id=\"sk-estimator-id-3\" type=\"checkbox\" checked><label for=\"sk-estimator-id-3\" class=\"sk-toggleable__label sk-toggleable__label-arrow\">LogisticRegression</label><div class=\"sk-toggleable__content\"><pre>LogisticRegression()</pre></div></div></div></div></div>"
      ],
      "text/plain": [
       "LogisticRegression()"
      ]
     },
     "execution_count": 47,
     "metadata": {},
     "output_type": "execute_result"
    }
   ],
   "source": [
    "log_reg = LogisticRegression()\n",
    "log_reg.fit(x_train,y_train)"
   ]
  },
  {
   "cell_type": "code",
   "execution_count": 48,
   "id": "be677e7c",
   "metadata": {},
   "outputs": [
    {
     "data": {
      "text/plain": [
       "0.9173553719008265"
      ]
     },
     "execution_count": 48,
     "metadata": {},
     "output_type": "execute_result"
    }
   ],
   "source": [
    "train_score = log_reg.score(x_train,y_train)\n",
    "train_score"
   ]
  },
  {
   "cell_type": "code",
   "execution_count": 49,
   "id": "6892eec8",
   "metadata": {},
   "outputs": [
    {
     "data": {
      "text/plain": [
       "0.9069572506286673"
      ]
     },
     "execution_count": 49,
     "metadata": {},
     "output_type": "execute_result"
    }
   ],
   "source": [
    "test_score = log_reg.score(x_test,y_test)\n",
    "test_score"
   ]
  },
  {
   "cell_type": "code",
   "execution_count": 50,
   "id": "4c08fb08",
   "metadata": {},
   "outputs": [
    {
     "data": {
      "text/plain": [
       "<sklearn.metrics._plot.confusion_matrix.ConfusionMatrixDisplay at 0x2037d1b3c10>"
      ]
     },
     "execution_count": 50,
     "metadata": {},
     "output_type": "execute_result"
    },
    {
     "data": {
      "image/png": "[encoded data removed]",
      "text/plain": [
       "<Figure size 640x480 with 2 Axes>"
      ]
     },
     "metadata": {},
     "output_type": "display_data"
    }
   ],
   "source": [
    "ConfusionMatrixDisplay.from_estimator(log_reg,x_train,y_train)"
   ]
  },
  {
   "cell_type": "code",
   "execution_count": 51,
   "id": "22fc976c",
   "metadata": {},
   "outputs": [
    {
     "data": {
      "text/plain": [
       "<sklearn.metrics._plot.confusion_matrix.ConfusionMatrixDisplay at 0x2037d1b3f40>"
      ]
     },
     "execution_count": 51,
     "metadata": {},
     "output_type": "execute_result"
    },
    {
     "data": {
      "image/png": "[encoded data removed]",
      "text/plain": [
       "<Figure size 640x480 with 2 Axes>"
      ]
     },
     "metadata": {},
     "output_type": "display_data"
    }
   ],
   "source": [
    "ConfusionMatrixDisplay.from_estimator(log_reg,x_test,y_test)"
   ]
  },
  {
   "cell_type": "markdown",
   "id": "e83252c3",
   "metadata": {},
   "source": [
    "### Model Evaluation"
   ]
  },
  {
   "cell_type": "code",
   "execution_count": 52,
   "id": "d033d1ba",
   "metadata": {},
   "outputs": [
    {
     "name": "stdout",
     "output_type": "stream",
     "text": [
      "Confusion Matrix :: \n",
      " [[1075  162]\n",
      " [  68 1478]]\n",
      "Accuracy Score ::  0.9173553719008265\n",
      "Classification Report ::\n",
      "               precision    recall  f1-score   support\n",
      "\n",
      "           0       0.94      0.87      0.90      1237\n",
      "           1       0.90      0.96      0.93      1546\n",
      "\n",
      "    accuracy                           0.92      2783\n",
      "   macro avg       0.92      0.91      0.92      2783\n",
      "weighted avg       0.92      0.92      0.92      2783\n",
      "\n",
      "Recall Score :: 0.9560155239327296\n",
      "Precision Score :: 0.901219512195122\n"
     ]
    }
   ],
   "source": [
    "y_pred = log_reg.predict(x_train)\n",
    "\n",
    "con_mat = confusion_matrix(y_train, y_pred)\n",
    "print(\"Confusion Matrix :: \\n\",con_mat)\n",
    "\n",
    "acc_score = accuracy_score(y_train, y_pred)\n",
    "print(\"Accuracy Score :: \",acc_score)\n",
    "\n",
    "clf_report = classification_report(y_train,y_pred)\n",
    "print(\"Classification Report ::\\n\",clf_report)\n",
    "\n",
    "recall = recall_score(y_train,y_pred)\n",
    "print(\"Recall Score ::\",recall)\n",
    "\n",
    "pre = precision_score(y_train, y_pred)\n",
    "print(\"Precision Score ::\",pre)\n"
   ]
  },
  {
   "cell_type": "code",
   "execution_count": 53,
   "id": "db9504c7",
   "metadata": {},
   "outputs": [
    {
     "name": "stdout",
     "output_type": "stream",
     "text": [
      "Confusion Matrix :: \n",
      " [[467  63]\n",
      " [ 48 615]]\n",
      "Accuracy Score ::  0.9069572506286673\n",
      "Classification Report ::\n",
      "               precision    recall  f1-score   support\n",
      "\n",
      "           0       0.91      0.88      0.89       530\n",
      "           1       0.91      0.93      0.92       663\n",
      "\n",
      "    accuracy                           0.91      1193\n",
      "   macro avg       0.91      0.90      0.91      1193\n",
      "weighted avg       0.91      0.91      0.91      1193\n",
      "\n",
      "Recall Score :: 0.9276018099547512\n",
      "Precision Score :: 0.9070796460176991\n"
     ]
    }
   ],
   "source": [
    "y_pred_test = log_reg.predict(x_test)\n",
    "\n",
    "con_mat = confusion_matrix(y_test, y_pred_test)\n",
    "print(\"Confusion Matrix :: \\n\",con_mat)\n",
    "\n",
    "acc_score = accuracy_score(y_test, y_pred_test)\n",
    "print(\"Accuracy Score :: \",acc_score)\n",
    "\n",
    "clf_report = classification_report(y_test,y_pred_test)\n",
    "print(\"Classification Report ::\\n\",clf_report)\n",
    "\n",
    "recall = recall_score(y_test,y_pred_test)\n",
    "print(\"Recall Score ::\",recall)\n",
    "\n",
    "pre = precision_score(y_test, y_pred_test)\n",
    "print(\"Precision Score ::\",pre)\n"
   ]
  },
  {
   "cell_type": "markdown",
   "id": "ee8233aa",
   "metadata": {},
   "source": [
    "### KNN Classifier"
   ]
  },
  {
   "cell_type": "code",
   "execution_count": 54,
   "id": "1a978894",
   "metadata": {},
   "outputs": [
    {
     "data": {
      "text/html": [
       "<style>#sk-container-id-4 {color: black;background-color: white;}#sk-container-id-4 pre{padding: 0;}#sk-container-id-4 div.sk-toggleable {background-color: white;}#sk-container-id-4 label.sk-toggleable__label {cursor: pointer;display: block;width: 100%;margin-bottom: 0;padding: 0.3em;box-sizing: border-box;text-align: center;}#sk-container-id-4 label.sk-toggleable__label-arrow:before {content: \"▸\";float: left;margin-right: 0.25em;color: #696969;}#sk-container-id-4 label.sk-toggleable__label-arrow:hover:before {color: black;}#sk-container-id-4 div.sk-estimator:hover label.sk-toggleable__label-arrow:before {color: black;}#sk-container-id-4 div.sk-toggleable__content {max-height: 0;max-width: 0;overflow: hidden;text-align: left;background-color: #f0f8ff;}#sk-container-id-4 div.sk-toggleable__content pre {margin: 0.2em;color: black;border-radius: 0.25em;background-color: #f0f8ff;}#sk-container-id-4 input.sk-toggleable__control:checked~div.sk-toggleable__content {max-height: 200px;max-width: 100%;overflow: auto;}#sk-container-id-4 input.sk-toggleable__control:checked~label.sk-toggleable__label-arrow:before {content: \"▾\";}#sk-container-id-4 div.sk-estimator input.sk-toggleable__control:checked~label.sk-toggleable__label {background-color: #d4ebff;}#sk-container-id-4 div.sk-label input.sk-toggleable__control:checked~label.sk-toggleable__label {background-color: #d4ebff;}#sk-container-id-4 input.sk-hidden--visually {border: 0;clip: rect(1px 1px 1px 1px);clip: rect(1px, 1px, 1px, 1px);height: 1px;margin: -1px;overflow: hidden;padding: 0;position: absolute;width: 1px;}#sk-container-id-4 div.sk-estimator {font-family: monospace;background-color: #f0f8ff;border: 1px dotted black;border-radius: 0.25em;box-sizing: border-box;margin-bottom: 0.5em;}#sk-container-id-4 div.sk-estimator:hover {background-color: #d4ebff;}#sk-container-id-4 div.sk-parallel-item::after {content: \"\";width: 100%;border-bottom: 1px solid gray;flex-grow: 1;}#sk-container-id-4 div.sk-label:hover label.sk-toggleable__label {background-color: #d4ebff;}#sk-container-id-4 div.sk-serial::before {content: \"\";position: absolute;border-left: 1px solid gray;box-sizing: border-box;top: 0;bottom: 0;left: 50%;z-index: 0;}#sk-container-id-4 div.sk-serial {display: flex;flex-direction: column;align-items: center;background-color: white;padding-right: 0.2em;padding-left: 0.2em;position: relative;}#sk-container-id-4 div.sk-item {position: relative;z-index: 1;}#sk-container-id-4 div.sk-parallel {display: flex;align-items: stretch;justify-content: center;background-color: white;position: relative;}#sk-container-id-4 div.sk-item::before, #sk-container-id-4 div.sk-parallel-item::before {content: \"\";position: absolute;border-left: 1px solid gray;box-sizing: border-box;top: 0;bottom: 0;left: 50%;z-index: -1;}#sk-container-id-4 div.sk-parallel-item {display: flex;flex-direction: column;z-index: 1;position: relative;background-color: white;}#sk-container-id-4 div.sk-parallel-item:first-child::after {align-self: flex-end;width: 50%;}#sk-container-id-4 div.sk-parallel-item:last-child::after {align-self: flex-start;width: 50%;}#sk-container-id-4 div.sk-parallel-item:only-child::after {width: 0;}#sk-container-id-4 div.sk-dashed-wrapped {border: 1px dashed gray;margin: 0 0.4em 0.5em 0.4em;box-sizing: border-box;padding-bottom: 0.4em;background-color: white;}#sk-container-id-4 div.sk-label label {font-family: monospace;font-weight: bold;display: inline-block;line-height: 1.2em;}#sk-container-id-4 div.sk-label-container {text-align: center;}#sk-container-id-4 div.sk-container {/* jupyter's `normalize.less` sets `[hidden] { display: none; }` but bootstrap.min.css set `[hidden] { display: none !important; }` so we also need the `!important` here to be able to override the default hidden behavior on the sphinx rendered scikit-learn.org. See: https://github.com/scikit-learn/scikit-learn/issues/21755 */display: inline-block !important;position: relative;}#sk-container-id-4 div.sk-text-repr-fallback {display: none;}</style><div id=\"sk-container-id-4\" class=\"sk-top-container\"><div class=\"sk-text-repr-fallback\"><pre>KNeighborsClassifier(p=1)</pre><b>In a Jupyter environment, please rerun this cell to show the HTML representation or trust the notebook. <br />On GitHub, the HTML representation is unable to render, please try loading this page with nbviewer.org.</b></div><div class=\"sk-container\" hidden><div class=\"sk-item\"><div class=\"sk-estimator sk-toggleable\"><input class=\"sk-toggleable__control sk-hidden--visually\" id=\"sk-estimator-id-4\" type=\"checkbox\" checked><label for=\"sk-estimator-id-4\" class=\"sk-toggleable__label sk-toggleable__label-arrow\">KNeighborsClassifier</label><div class=\"sk-toggleable__content\"><pre>KNeighborsClassifier(p=1)</pre></div></div></div></div></div>"
      ],
      "text/plain": [
       "KNeighborsClassifier(p=1)"
      ]
     },
     "execution_count": 54,
     "metadata": {},
     "output_type": "execute_result"
    }
   ],
   "source": [
    "# K = np.arange(1,11)\n",
    "# P = np.arange(1,3)\n",
    "\n",
    "knn_clf = KNeighborsClassifier(n_neighbors= 5, p = 1)\n",
    "knn_clf.fit(x_train,y_train)\n"
   ]
  },
  {
   "cell_type": "code",
   "execution_count": 55,
   "id": "373b70e6",
   "metadata": {},
   "outputs": [
    {
     "name": "stdout",
     "output_type": "stream",
     "text": [
      "Confusion Matrix :: \n",
      " [[1017  220]\n",
      " [  48 1498]]\n",
      "Accuracy Score ::  0.903701042040963\n",
      "Classification Report ::\n",
      "               precision    recall  f1-score   support\n",
      "\n",
      "           0       0.95      0.82      0.88      1237\n",
      "           1       0.87      0.97      0.92      1546\n",
      "\n",
      "    accuracy                           0.90      2783\n",
      "   macro avg       0.91      0.90      0.90      2783\n",
      "weighted avg       0.91      0.90      0.90      2783\n",
      "\n",
      "Recall Score :: 0.9689521345407504\n",
      "Precision Score :: 0.8719441210710128\n"
     ]
    }
   ],
   "source": [
    "y_pred_train = knn_clf.predict(x_train)\n",
    "\n",
    "con_mat = confusion_matrix(y_train, y_pred_train)\n",
    "print(\"Confusion Matrix :: \\n\",con_mat)\n",
    "\n",
    "acc_score = accuracy_score(y_train, y_pred_train)\n",
    "print(\"Accuracy Score :: \",acc_score)\n",
    "\n",
    "clf_report = classification_report(y_train,y_pred_train)\n",
    "print(\"Classification Report ::\\n\",clf_report)\n",
    "\n",
    "recall = recall_score(y_train,y_pred_train)\n",
    "print(\"Recall Score ::\",recall)\n",
    "\n",
    "pre = precision_score(y_train, y_pred_train)\n",
    "print(\"Precision Score ::\",pre)\n"
   ]
  },
  {
   "cell_type": "code",
   "execution_count": 56,
   "id": "ebdd4654",
   "metadata": {},
   "outputs": [
    {
     "name": "stdout",
     "output_type": "stream",
     "text": [
      "Confusion Matrix :: \n",
      " [[388 142]\n",
      " [ 43 620]]\n",
      "Accuracy Score ::  0.8449287510477788\n",
      "Classification Report ::\n",
      "               precision    recall  f1-score   support\n",
      "\n",
      "           0       0.90      0.73      0.81       530\n",
      "           1       0.81      0.94      0.87       663\n",
      "\n",
      "    accuracy                           0.84      1193\n",
      "   macro avg       0.86      0.83      0.84      1193\n",
      "weighted avg       0.85      0.84      0.84      1193\n",
      "\n",
      "Recall Score :: 0.9351432880844646\n",
      "Precision Score :: 0.8136482939632546\n"
     ]
    }
   ],
   "source": [
    "y_pred = knn_clf.predict(x_test)\n",
    "\n",
    "con_mat = confusion_matrix(y_test, y_pred)\n",
    "print(\"Confusion Matrix :: \\n\",con_mat)\n",
    "\n",
    "acc_score = accuracy_score(y_test, y_pred)\n",
    "print(\"Accuracy Score :: \",acc_score)\n",
    "\n",
    "clf_report = classification_report(y_test,y_pred)\n",
    "print(\"Classification Report ::\\n\",clf_report)\n",
    "\n",
    "recall = recall_score(y_test,y_pred)\n",
    "print(\"Recall Score ::\",recall)\n",
    "\n",
    "pre = precision_score(y_test, y_pred)\n",
    "print(\"Precision Score ::\",pre)\n"
   ]
  },
  {
   "cell_type": "markdown",
   "id": "97b7e77e",
   "metadata": {},
   "source": [
    "### Save File"
   ]
  },
  {
   "cell_type": "code",
   "execution_count": 57,
   "id": "40812743",
   "metadata": {},
   "outputs": [],
   "source": [
    "with open(r\"artifacts/logistic_reg.pkl\",\"wb\") as f:\n",
    "    pickle.dump(log_reg,f)"
   ]
  },
  {
   "cell_type": "markdown",
   "id": "9ff7b31a",
   "metadata": {},
   "source": [
    "#### COlumn"
   ]
  },
  {
   "cell_type": "code",
   "execution_count": 58,
   "id": "db1b6458",
   "metadata": {},
   "outputs": [],
   "source": [
    "column_names = x.columns\n",
    "project_data = {\"Column Names\": column_names.tolist()}\n",
    "\n",
    "with open(r\"artifacts/project_data.json\",\"w\") as f:\n",
    "    json.dump(project_data,f)"
   ]
  },
  {
   "cell_type": "markdown",
   "id": "4cdf0168",
   "metadata": {},
   "source": [
    "#### smote"
   ]
  },
  {
   "cell_type": "code",
   "execution_count": 59,
   "id": "03fede42",
   "metadata": {},
   "outputs": [],
   "source": [
    "with open(r\"artifacts/smote.pkl\",\"wb\") as f:\n",
    "    pickle.dump(smote,f)"
   ]
  }
 ],
 "metadata": {
  "kernelspec": {
   "display_name": "Python 3 (ipykernel)",
   "language": "python",
   "name": "python3"
  },
  "language_info": {
   "codemirror_mode": {
    "name": "ipython",
    "version": 3
   },
   "file_extension": ".py",
   "mimetype": "text/x-python",
   "name": "python",
   "nbconvert_exporter": "python",
   "pygments_lexer": "ipython3",
   "version": "3.10.8"
  }
 },
 "nbformat": 4,
 "nbformat_minor": 5
}
